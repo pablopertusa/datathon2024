{
 "cells": [
  {
   "cell_type": "markdown",
   "metadata": {},
   "source": [
    "# Red neuronal"
   ]
  },
  {
   "cell_type": "code",
   "execution_count": 1,
   "metadata": {},
   "outputs": [
    {
     "name": "stderr",
     "output_type": "stream",
     "text": [
      "2024-10-10 18:15:27.342870: I tensorflow/core/util/port.cc:153] oneDNN custom operations are on. You may see slightly different numerical results due to floating-point round-off errors from different computation orders. To turn them off, set the environment variable `TF_ENABLE_ONEDNN_OPTS=0`.\n",
      "2024-10-10 18:15:27.347509: I external/local_xla/xla/tsl/cuda/cudart_stub.cc:32] Could not find cuda drivers on your machine, GPU will not be used.\n",
      "2024-10-10 18:15:27.353036: I external/local_xla/xla/tsl/cuda/cudart_stub.cc:32] Could not find cuda drivers on your machine, GPU will not be used.\n",
      "2024-10-10 18:15:27.362329: E external/local_xla/xla/stream_executor/cuda/cuda_fft.cc:485] Unable to register cuFFT factory: Attempting to register factory for plugin cuFFT when one has already been registered\n",
      "2024-10-10 18:15:27.379322: E external/local_xla/xla/stream_executor/cuda/cuda_dnn.cc:8454] Unable to register cuDNN factory: Attempting to register factory for plugin cuDNN when one has already been registered\n",
      "2024-10-10 18:15:27.385039: E external/local_xla/xla/stream_executor/cuda/cuda_blas.cc:1452] Unable to register cuBLAS factory: Attempting to register factory for plugin cuBLAS when one has already been registered\n",
      "2024-10-10 18:15:27.400947: I tensorflow/core/platform/cpu_feature_guard.cc:210] This TensorFlow binary is optimized to use available CPU instructions in performance-critical operations.\n",
      "To enable the following instructions: AVX2 AVX512F AVX512_VNNI FMA, in other operations, rebuild TensorFlow with the appropriate compiler flags.\n",
      "2024-10-10 18:15:28.554960: W tensorflow/compiler/tf2tensorrt/utils/py_utils.cc:38] TF-TRT Warning: Could not find TensorRT\n"
     ]
    }
   ],
   "source": [
    "import tensorflow as tf\n",
    "from tensorflow.keras import layers, models"
   ]
  },
  {
   "cell_type": "code",
   "execution_count": null,
   "metadata": {},
   "outputs": [],
   "source": [
    "input_1_shape = (x, y)\n",
    "input_2_shape = (a, b)\n",
    "input_3_shape = (c, d)\n",
    "input_4_shape = (e, f)\n",
    "\n",
    "\n",
    "input_1 = layers.Input(shape=input_1_shape)\n",
    "x1 = layers.Flatten()(input_1)  # Aplanamos para que sea compatible con el resto de la red\n",
    "x1 = layers.Dense(64, activation='relu')(x1)\n",
    "\n",
    "input_2 = layers.Input(shape=input_2_shape)\n",
    "x2 = layers.Flatten()(input_2)\n",
    "x2 = layers.Dense(64, activation='relu')(x2)\n",
    "\n",
    "input_3 = layers.Input(shape=input_3_shape)\n",
    "x3 = layers.Flatten()(input_3)\n",
    "x3 = layers.Dense(64, activation='relu')(x3)\n",
    "\n",
    "input_4 = layers.Input(shape=input_4_shape)\n",
    "x4 = layers.Flatten()(input_4)\n",
    "x4 = layers.Dense(64, activation='relu')(x4)\n",
    "\n",
    "combined = layers.Concatenate()([x1, x2, x3, x4])\n",
    "\n",
    "x = layers.Dense(128, activation='relu')(combined)\n",
    "x = layers.Dense(64, activation='relu')(x)\n",
    "\n",
    "output = layers.Dense(1)(x)\n",
    "\n",
    "model = models.Model(inputs=[input_1, input_2, input_3, input_4], outputs=output)\n",
    "\n",
    "model.compile(optimizer='adam', loss='mean_squared_error', metrics=['mean_absolute_error'])\n",
    "\n",
    "model.summary()\n"
   ]
  }
 ],
 "metadata": {
  "kernelspec": {
   "display_name": "Python 3",
   "language": "python",
   "name": "python3"
  },
  "language_info": {
   "codemirror_mode": {
    "name": "ipython",
    "version": 3
   },
   "file_extension": ".py",
   "mimetype": "text/x-python",
   "name": "python",
   "nbconvert_exporter": "python",
   "pygments_lexer": "ipython3",
   "version": "3.10.12"
  }
 },
 "nbformat": 4,
 "nbformat_minor": 2
}
