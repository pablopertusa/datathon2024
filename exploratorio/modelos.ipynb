{
 "cells": [
  {
   "cell_type": "markdown",
   "metadata": {},
   "source": [
    "# Modelos datathon"
   ]
  },
  {
   "cell_type": "code",
   "execution_count": 34,
   "metadata": {},
   "outputs": [],
   "source": [
    "import pickle\n",
    "import pandas as pd\n",
    "\n",
    "datos = pd.read_pickle(\"dict_dataframes_short.pkl\")"
   ]
  },
  {
   "cell_type": "code",
   "execution_count": 35,
   "metadata": {},
   "outputs": [
    {
     "data": {
      "text/plain": [
       "dict_keys(['Centrífuga 17825.xlsx/Datos', 'Biorreactor 13169.xlsx/Datos', 'Fases producción v02.xlsx/Preinóculo', 'Fases producción v02.xlsx/Inóculo', 'Fases producción v02.xlsx/Cultivo final', 'Cinéticos IPC.xlsx/Inóculos', 'Cinéticos IPC.xlsx/Cultivos finales', 'Cinéticos IPC.xlsx/Centrifugación', 'Horas inicio fin centrífugas.xlsx/Hoja1', 'Centrífuga 14246.xlsx/Datos', 'Fases producción_test v02.xlsx/Cultivo final', 'Biorreactor 14617.xlsx/Datos', 'Biorreactor 13171.xlsx/Datos', 'Biorreactor 14614.xlsx/Datos', 'Biorreactor 13170.xlsx/Datos', 'Biorreactor 14615.xlsx/Datos', 'OF 123456 v02.xlsx/Sheet1', 'Biorreactor 14618.xlsx/Datos', 'Movimientos componentes.xlsx/Full1', 'Biorreactor 13172.xlsx/Datos', 'Temperaturas y humedades.xlsx/Datos', 'Biorreactor 14616.xlsx/Datos', 'Centrífuga 12912.xlsx/Datos'])"
      ]
     },
     "execution_count": 35,
     "metadata": {},
     "output_type": "execute_result"
    }
   ],
   "source": [
    "datos.keys()"
   ]
  },
  {
   "cell_type": "code",
   "execution_count": 36,
   "metadata": {},
   "outputs": [],
   "source": [
    "info = {}\n",
    "info['biorreactores'] = {}\n",
    "info['centrifugas'] = {}\n",
    "\n",
    "biorreactores = info['biorreactores']\n",
    "centrifugas = info['centrifugas']\n",
    "for k in datos.keys():\n",
    "    if 'Bio' in k:\n",
    "        biorreactores[k.split('/')[0].split('.')[0].split(' ')[-1]] = datos[k]\n",
    "    elif 'Cen' in k:\n",
    "        centrifugas[k.split('/')[0].split('.')[0].split(' ')[-1]] = datos[k]\n",
    "    else:\n",
    "        info[k.split('/')[0].split('.')[0]] = datos[k]"
   ]
  },
  {
   "cell_type": "code",
   "execution_count": 37,
   "metadata": {},
   "outputs": [
    {
     "data": {
      "text/plain": [
       "dict_keys(['biorreactores', 'centrifugas', 'Fases producción v02', 'Cinéticos IPC', 'Horas inicio fin centrífugas', 'Fases producción_test v02', 'OF 123456 v02', 'Movimientos componentes', 'Temperaturas y humedades'])"
      ]
     },
     "execution_count": 37,
     "metadata": {},
     "output_type": "execute_result"
    }
   ],
   "source": [
    "info.keys()"
   ]
  },
  {
   "cell_type": "code",
   "execution_count": null,
   "metadata": {},
   "outputs": [],
   "source": []
  }
 ],
 "metadata": {
  "kernelspec": {
   "display_name": "Python 3",
   "language": "python",
   "name": "python3"
  },
  "language_info": {
   "codemirror_mode": {
    "name": "ipython",
    "version": 3
   },
   "file_extension": ".py",
   "mimetype": "text/x-python",
   "name": "python",
   "nbconvert_exporter": "python",
   "pygments_lexer": "ipython3",
   "version": "3.10.12"
  }
 },
 "nbformat": 4,
 "nbformat_minor": 2
}
