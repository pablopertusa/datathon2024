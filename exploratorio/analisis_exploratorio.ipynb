{
 "cells": [
  {
   "cell_type": "markdown",
   "metadata": {},
   "source": [
    "# Análisis exploratorio"
   ]
  },
  {
   "cell_type": "markdown",
   "metadata": {},
   "source": [
    "## Carga de los datos"
   ]
  },
  {
   "cell_type": "code",
   "execution_count": 6,
   "metadata": {},
   "outputs": [],
   "source": [
    "import pandas as pd\n",
    "from pathlib import Path\n",
    "import pickle"
   ]
  },
  {
   "cell_type": "code",
   "execution_count": 7,
   "metadata": {},
   "outputs": [
    {
     "name": "stdout",
     "output_type": "stream",
     "text": [
      "../datos/Centrífuga 17825.xlsx\n",
      "../datos/Biorreactor 13169.xlsx\n",
      "../datos/Cinéticos IPC.xlsx\n",
      "../datos/Horas inicio fin centrífugas.xlsx\n",
      "../datos/Fases producción.xlsx\n",
      "../datos/Centrífuga 14246.xlsx\n",
      "../datos/Biorreactor 14617.xlsx\n",
      "../datos/Biorreactor 13171.xlsx\n",
      "../datos/Biorreactor 14614.xlsx\n",
      "../datos/Biorreactor 13170.xlsx\n",
      "../datos/Biorreactor 14615.xlsx\n",
      "../datos/Biorreactor 14618.xlsx\n",
      "../datos/Movimientos componentes.xlsx\n",
      "../datos/Biorreactor 13172.xlsx\n",
      "../datos/Temperaturas y humedades.xlsx\n",
      "../datos/Biorreactor 14616.xlsx\n",
      "../datos/OF 123456.xlsx\n",
      "../datos/Fases producción_test.xlsx\n",
      "../datos/Centrífuga 12912.xlsx\n"
     ]
    }
   ],
   "source": [
    "dir_actual = Path('.')\n",
    "if (dir_actual / 'dict_dataframes.pkl').exists():\n",
    "    dataframes = pd.read_pickle('dict_dataframes.pkl')\n",
    "    print('Leyendo datos de dict_dataframes.pkl')\n",
    "else:\n",
    "    directorio = Path('../datos')\n",
    "    dataframes = {}\n",
    "    for f in directorio.iterdir():\n",
    "        if f.suffix == '.xlsx':\n",
    "            print(f)\n",
    "            xlsx = pd.ExcelFile(f)\n",
    "            for sheet in xlsx.sheet_names:\n",
    "                if sheet != 'WData':\n",
    "                    df = xlsx.parse(sheet)\n",
    "                    dataframes[str(f)+\"/\"+sheet] = df"
   ]
  },
  {
   "cell_type": "code",
   "execution_count": 8,
   "metadata": {},
   "outputs": [
    {
     "data": {
      "text/plain": [
       "dict_keys(['../datos/Centrífuga 17825.xlsx/Datos', '../datos/Biorreactor 13169.xlsx/Datos', '../datos/Cinéticos IPC.xlsx/Inóculos', '../datos/Cinéticos IPC.xlsx/Cultivos finales', '../datos/Cinéticos IPC.xlsx/Centrifugación', '../datos/Horas inicio fin centrífugas.xlsx/Hoja1', '../datos/Fases producción.xlsx/Preinóculo', '../datos/Fases producción.xlsx/Inóculo', '../datos/Fases producción.xlsx/Cultivo final', '../datos/Centrífuga 14246.xlsx/Datos', '../datos/Biorreactor 14617.xlsx/Datos', '../datos/Biorreactor 13171.xlsx/Datos', '../datos/Biorreactor 14614.xlsx/Datos', '../datos/Biorreactor 13170.xlsx/Datos', '../datos/Biorreactor 14615.xlsx/Datos', '../datos/Biorreactor 14618.xlsx/Datos', '../datos/Movimientos componentes.xlsx/Full1', '../datos/Biorreactor 13172.xlsx/Datos', '../datos/Temperaturas y humedades.xlsx/Datos', '../datos/Biorreactor 14616.xlsx/Datos', '../datos/OF 123456.xlsx/Sheet1', '../datos/Fases producción_test.xlsx/Cultivo final', '../datos/Centrífuga 12912.xlsx/Datos'])"
      ]
     },
     "execution_count": 8,
     "metadata": {},
     "output_type": "execute_result"
    }
   ],
   "source": [
    "dataframes.keys()"
   ]
  },
  {
   "cell_type": "code",
   "execution_count": 9,
   "metadata": {},
   "outputs": [
    {
     "data": {
      "text/html": [
       "<div>\n",
       "<style scoped>\n",
       "    .dataframe tbody tr th:only-of-type {\n",
       "        vertical-align: middle;\n",
       "    }\n",
       "\n",
       "    .dataframe tbody tr th {\n",
       "        vertical-align: top;\n",
       "    }\n",
       "\n",
       "    .dataframe thead th {\n",
       "        text-align: right;\n",
       "    }\n",
       "</style>\n",
       "<table border=\"1\" class=\"dataframe\">\n",
       "  <thead>\n",
       "    <tr style=\"text-align: right;\">\n",
       "      <th></th>\n",
       "      <th>LOTE</th>\n",
       "      <th>ID bioreactor</th>\n",
       "      <th>Fecha/hora inicio</th>\n",
       "      <th>Fecha/hora fin</th>\n",
       "      <th>Volumen de cultivo</th>\n",
       "      <th>Turbidez inicio cultivo</th>\n",
       "      <th>Turbidez final culttivo</th>\n",
       "      <th>Viabilidad final cultivo</th>\n",
       "    </tr>\n",
       "  </thead>\n",
       "  <tbody>\n",
       "    <tr>\n",
       "      <th>0</th>\n",
       "      <td>23019</td>\n",
       "      <td>13171</td>\n",
       "      <td>NaT</td>\n",
       "      <td>NaT</td>\n",
       "      <td>NaN</td>\n",
       "      <td>NaN</td>\n",
       "      <td>32.80</td>\n",
       "      <td>134400000</td>\n",
       "    </tr>\n",
       "    <tr>\n",
       "      <th>1</th>\n",
       "      <td>23020</td>\n",
       "      <td>13171</td>\n",
       "      <td>NaT</td>\n",
       "      <td>NaT</td>\n",
       "      <td>NaN</td>\n",
       "      <td>NaN</td>\n",
       "      <td>32.80</td>\n",
       "      <td>134400000</td>\n",
       "    </tr>\n",
       "    <tr>\n",
       "      <th>2</th>\n",
       "      <td>23021</td>\n",
       "      <td>14618</td>\n",
       "      <td>NaT</td>\n",
       "      <td>NaT</td>\n",
       "      <td>NaN</td>\n",
       "      <td>NaN</td>\n",
       "      <td>27.84</td>\n",
       "      <td>115200000</td>\n",
       "    </tr>\n",
       "    <tr>\n",
       "      <th>3</th>\n",
       "      <td>23022</td>\n",
       "      <td>14618</td>\n",
       "      <td>NaT</td>\n",
       "      <td>NaT</td>\n",
       "      <td>NaN</td>\n",
       "      <td>NaN</td>\n",
       "      <td>27.84</td>\n",
       "      <td>115200000</td>\n",
       "    </tr>\n",
       "    <tr>\n",
       "      <th>4</th>\n",
       "      <td>23023</td>\n",
       "      <td>14618</td>\n",
       "      <td>2023-03-27 07:22:00</td>\n",
       "      <td>2023-03-28 07:29:00</td>\n",
       "      <td>155.20</td>\n",
       "      <td>18.24</td>\n",
       "      <td>31.68</td>\n",
       "      <td>106400000</td>\n",
       "    </tr>\n",
       "    <tr>\n",
       "      <th>...</th>\n",
       "      <td>...</td>\n",
       "      <td>...</td>\n",
       "      <td>...</td>\n",
       "      <td>...</td>\n",
       "      <td>...</td>\n",
       "      <td>...</td>\n",
       "      <td>...</td>\n",
       "      <td>...</td>\n",
       "    </tr>\n",
       "    <tr>\n",
       "      <th>163</th>\n",
       "      <td>24101</td>\n",
       "      <td>13171</td>\n",
       "      <td>2024-06-28 07:16:00</td>\n",
       "      <td>2024-06-29 07:06:00</td>\n",
       "      <td>167.52</td>\n",
       "      <td>16.16</td>\n",
       "      <td>28.08</td>\n",
       "      <td>91200000</td>\n",
       "    </tr>\n",
       "    <tr>\n",
       "      <th>164</th>\n",
       "      <td>24103</td>\n",
       "      <td>13171</td>\n",
       "      <td>2024-06-28 07:16:00</td>\n",
       "      <td>2024-06-29 07:06:00</td>\n",
       "      <td>167.52</td>\n",
       "      <td>16.16</td>\n",
       "      <td>28.08</td>\n",
       "      <td>91200000</td>\n",
       "    </tr>\n",
       "    <tr>\n",
       "      <th>165</th>\n",
       "      <td>24104</td>\n",
       "      <td>13172</td>\n",
       "      <td>2024-07-01 07:01:00</td>\n",
       "      <td>2024-07-02 08:01:00</td>\n",
       "      <td>169.04</td>\n",
       "      <td>14.40</td>\n",
       "      <td>26.32</td>\n",
       "      <td>82400000</td>\n",
       "    </tr>\n",
       "    <tr>\n",
       "      <th>166</th>\n",
       "      <td>24105</td>\n",
       "      <td>13172</td>\n",
       "      <td>2024-07-01 07:01:00</td>\n",
       "      <td>2024-07-02 08:01:00</td>\n",
       "      <td>169.04</td>\n",
       "      <td>14.40</td>\n",
       "      <td>26.32</td>\n",
       "      <td>82400000</td>\n",
       "    </tr>\n",
       "    <tr>\n",
       "      <th>167</th>\n",
       "      <td>24108</td>\n",
       "      <td>13171</td>\n",
       "      <td>2024-07-05 07:04:00</td>\n",
       "      <td>2024-07-06 07:22:00</td>\n",
       "      <td>168.80</td>\n",
       "      <td>17.52</td>\n",
       "      <td>28.08</td>\n",
       "      <td>92800000</td>\n",
       "    </tr>\n",
       "  </tbody>\n",
       "</table>\n",
       "<p>168 rows × 8 columns</p>\n",
       "</div>"
      ],
      "text/plain": [
       "      LOTE  ID bioreactor   Fecha/hora inicio      Fecha/hora fin  \\\n",
       "0    23019          13171                 NaT                 NaT   \n",
       "1    23020          13171                 NaT                 NaT   \n",
       "2    23021          14618                 NaT                 NaT   \n",
       "3    23022          14618                 NaT                 NaT   \n",
       "4    23023          14618 2023-03-27 07:22:00 2023-03-28 07:29:00   \n",
       "..     ...            ...                 ...                 ...   \n",
       "163  24101          13171 2024-06-28 07:16:00 2024-06-29 07:06:00   \n",
       "164  24103          13171 2024-06-28 07:16:00 2024-06-29 07:06:00   \n",
       "165  24104          13172 2024-07-01 07:01:00 2024-07-02 08:01:00   \n",
       "166  24105          13172 2024-07-01 07:01:00 2024-07-02 08:01:00   \n",
       "167  24108          13171 2024-07-05 07:04:00 2024-07-06 07:22:00   \n",
       "\n",
       "     Volumen de cultivo  Turbidez inicio cultivo  Turbidez final culttivo  \\\n",
       "0                   NaN                      NaN                    32.80   \n",
       "1                   NaN                      NaN                    32.80   \n",
       "2                   NaN                      NaN                    27.84   \n",
       "3                   NaN                      NaN                    27.84   \n",
       "4                155.20                    18.24                    31.68   \n",
       "..                  ...                      ...                      ...   \n",
       "163              167.52                    16.16                    28.08   \n",
       "164              167.52                    16.16                    28.08   \n",
       "165              169.04                    14.40                    26.32   \n",
       "166              169.04                    14.40                    26.32   \n",
       "167              168.80                    17.52                    28.08   \n",
       "\n",
       "    Viabilidad final cultivo  \n",
       "0                  134400000  \n",
       "1                  134400000  \n",
       "2                  115200000  \n",
       "3                  115200000  \n",
       "4                  106400000  \n",
       "..                       ...  \n",
       "163                 91200000  \n",
       "164                 91200000  \n",
       "165                 82400000  \n",
       "166                 82400000  \n",
       "167                 92800000  \n",
       "\n",
       "[168 rows x 8 columns]"
      ]
     },
     "execution_count": 9,
     "metadata": {},
     "output_type": "execute_result"
    }
   ],
   "source": [
    "dataframes['../datos/Fases producción.xlsx/Inóculo']"
   ]
  },
  {
   "cell_type": "markdown",
   "metadata": {},
   "source": [
    "Ahora los guardamos en un archivo pickle para luego cargar los datos más rápido."
   ]
  },
  {
   "cell_type": "code",
   "execution_count": 10,
   "metadata": {},
   "outputs": [],
   "source": [
    "if not ((dir_actual / 'dict_dataframes.pkl').exists()):\n",
    "    with open('dict_dataframes.pkl', 'wb') as f:\n",
    "        pickle.dump(dataframes, f)"
   ]
  },
  {
   "cell_type": "markdown",
   "metadata": {},
   "source": [
    "## Creación dataframe de exploración"
   ]
  },
  {
   "cell_type": "code",
   "execution_count": 15,
   "metadata": {},
   "outputs": [],
   "source": [
    "# para limpiar los strings de los lotes y utilizar un formato común\n",
    "def limpiar_string_lote(string: str) -> str:\n",
    "    if ',' in string:\n",
    "        string = string.replace(',', '')\n",
    "    if '/' in string:\n",
    "        string = string.replace('/', '')\n",
    "    return string"
   ]
  },
  {
   "cell_type": "code",
   "execution_count": 24,
   "metadata": {},
   "outputs": [
    {
     "data": {
      "text/html": [
       "<div>\n",
       "<style scoped>\n",
       "    .dataframe tbody tr th:only-of-type {\n",
       "        vertical-align: middle;\n",
       "    }\n",
       "\n",
       "    .dataframe tbody tr th {\n",
       "        vertical-align: top;\n",
       "    }\n",
       "\n",
       "    .dataframe thead th {\n",
       "        text-align: right;\n",
       "    }\n",
       "</style>\n",
       "<table border=\"1\" class=\"dataframe\">\n",
       "  <thead>\n",
       "    <tr style=\"text-align: right;\">\n",
       "      <th></th>\n",
       "      <th>Lote</th>\n",
       "      <th>Cantidad entregada (L)</th>\n",
       "    </tr>\n",
       "  </thead>\n",
       "  <tbody>\n",
       "    <tr>\n",
       "      <th>0</th>\n",
       "      <td>23019</td>\n",
       "      <td>13.80</td>\n",
       "    </tr>\n",
       "    <tr>\n",
       "      <th>1</th>\n",
       "      <td>23020</td>\n",
       "      <td>13.60</td>\n",
       "    </tr>\n",
       "    <tr>\n",
       "      <th>2</th>\n",
       "      <td>23021</td>\n",
       "      <td>13.50</td>\n",
       "    </tr>\n",
       "    <tr>\n",
       "      <th>3</th>\n",
       "      <td>23022</td>\n",
       "      <td>13.80</td>\n",
       "    </tr>\n",
       "    <tr>\n",
       "      <th>4</th>\n",
       "      <td>23023</td>\n",
       "      <td>13.70</td>\n",
       "    </tr>\n",
       "    <tr>\n",
       "      <th>...</th>\n",
       "      <td>...</td>\n",
       "      <td>...</td>\n",
       "    </tr>\n",
       "    <tr>\n",
       "      <th>200</th>\n",
       "      <td>24108</td>\n",
       "      <td>13.63</td>\n",
       "    </tr>\n",
       "    <tr>\n",
       "      <th>201</th>\n",
       "      <td>24106</td>\n",
       "      <td>13.69</td>\n",
       "    </tr>\n",
       "    <tr>\n",
       "      <th>202</th>\n",
       "      <td>24107</td>\n",
       "      <td>13.45</td>\n",
       "    </tr>\n",
       "    <tr>\n",
       "      <th>203</th>\n",
       "      <td>24109</td>\n",
       "      <td>11.35</td>\n",
       "    </tr>\n",
       "    <tr>\n",
       "      <th>204</th>\n",
       "      <td>24110</td>\n",
       "      <td>13.77</td>\n",
       "    </tr>\n",
       "  </tbody>\n",
       "</table>\n",
       "<p>205 rows × 2 columns</p>\n",
       "</div>"
      ],
      "text/plain": [
       "      Lote  Cantidad entregada (L)\n",
       "0    23019                   13.80\n",
       "1    23020                   13.60\n",
       "2    23021                   13.50\n",
       "3    23022                   13.80\n",
       "4    23023                   13.70\n",
       "..     ...                     ...\n",
       "200  24108                   13.63\n",
       "201  24106                   13.69\n",
       "202  24107                   13.45\n",
       "203  24109                   11.35\n",
       "204  24110                   13.77\n",
       "\n",
       "[205 rows x 2 columns]"
      ]
     },
     "execution_count": 24,
     "metadata": {},
     "output_type": "execute_result"
    }
   ],
   "source": [
    "dict_of = {\n",
    "    'Lote' : list(map(limpiar_string_lote ,dataframes['../datos/OF 123456.xlsx/Sheet1']['Lote'].values)),\n",
    "    'Cantidad entregada (L)' : dataframes['../datos/OF 123456.xlsx/Sheet1']['Cantidad entregada'].values,\n",
    "}\n",
    "\n",
    "df_of = pd.DataFrame(dict_of)\n",
    "df_of"
   ]
  },
  {
   "cell_type": "code",
   "execution_count": 14,
   "metadata": {},
   "outputs": [
    {
     "data": {
      "text/plain": [
       "numpy.ndarray"
      ]
     },
     "execution_count": 14,
     "metadata": {},
     "output_type": "execute_result"
    }
   ],
   "source": [
    "type(dataframes['../datos/OF 123456.xlsx/Sheet1']['Cantidad entregada'].values)"
   ]
  },
  {
   "cell_type": "code",
   "execution_count": null,
   "metadata": {},
   "outputs": [],
   "source": []
  }
 ],
 "metadata": {
  "kernelspec": {
   "display_name": "Python 3",
   "language": "python",
   "name": "python3"
  },
  "language_info": {
   "codemirror_mode": {
    "name": "ipython",
    "version": 3
   },
   "file_extension": ".py",
   "mimetype": "text/x-python",
   "name": "python",
   "nbconvert_exporter": "python",
   "pygments_lexer": "ipython3",
   "version": "3.10.12"
  }
 },
 "nbformat": 4,
 "nbformat_minor": 2
}
