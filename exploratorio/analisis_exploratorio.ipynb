{
 "cells": [
  {
   "cell_type": "markdown",
   "metadata": {},
   "source": [
    "# Análisis exploratorio"
   ]
  },
  {
   "cell_type": "markdown",
   "metadata": {},
   "source": [
    "## Carga de los datos"
   ]
  },
  {
   "cell_type": "code",
   "execution_count": 3,
   "metadata": {},
   "outputs": [],
   "source": [
    "import pandas as pd\n",
    "from pathlib import Path"
   ]
  },
  {
   "cell_type": "code",
   "execution_count": 24,
   "metadata": {},
   "outputs": [
    {
     "name": "stdout",
     "output_type": "stream",
     "text": [
      "../datos/Centrífuga 17825.xlsx\n",
      "../datos/Biorreactor 13169.xlsx\n",
      "../datos/Cinéticos IPC.xlsx\n",
      "../datos/Horas inicio fin centrífugas.xlsx\n",
      "../datos/Fases producción.xlsx\n",
      "../datos/Centrífuga 14246.xlsx\n",
      "../datos/Biorreactor 14617.xlsx\n",
      "../datos/Biorreactor 13171.xlsx\n",
      "../datos/Biorreactor 14614.xlsx\n",
      "../datos/Biorreactor 13170.xlsx\n",
      "../datos/Biorreactor 14615.xlsx\n",
      "../datos/Biorreactor 14618.xlsx\n",
      "../datos/Movimientos componentes.xlsx\n",
      "../datos/Biorreactor 13172.xlsx\n",
      "../datos/Temperaturas y humedades.xlsx\n",
      "../datos/URL descripcion reto.txt\n",
      "../datos/Biorreactor 14616.xlsx\n",
      "../datos/OF 123456.xlsx\n",
      "../datos/Fases producción_test.xlsx\n",
      "../datos/Centrífuga 12912.xlsx\n"
     ]
    }
   ],
   "source": [
    "directorio = Path('../datos')\n",
    "dataframes = {}\n",
    "for f in directorio.iterdir():\n",
    "    print(f)\n",
    "    if f.suffix == '.xlsx':\n",
    "        xlsx = pd.ExcelFile(f)\n",
    "        for sheet in xlsx.sheet_names:\n",
    "            if sheet != 'WData':\n",
    "                df = xlsx.parse(sheet)\n",
    "                dataframes[str(f)+\"/\"+sheet] = df"
   ]
  },
  {
   "cell_type": "code",
   "execution_count": 25,
   "metadata": {},
   "outputs": [
    {
     "data": {
      "text/plain": [
       "dict_keys(['../datos/Centrífuga 17825.xlsx/Datos', '../datos/Biorreactor 13169.xlsx/Datos', '../datos/Cinéticos IPC.xlsx/Inóculos', '../datos/Cinéticos IPC.xlsx/Cultivos finales', '../datos/Cinéticos IPC.xlsx/Centrifugación', '../datos/Horas inicio fin centrífugas.xlsx/Hoja1', '../datos/Fases producción.xlsx/Preinóculo', '../datos/Fases producción.xlsx/Inóculo', '../datos/Fases producción.xlsx/Cultivo final', '../datos/Centrífuga 14246.xlsx/Datos', '../datos/Biorreactor 14617.xlsx/Datos', '../datos/Biorreactor 13171.xlsx/Datos', '../datos/Biorreactor 14614.xlsx/Datos', '../datos/Biorreactor 13170.xlsx/Datos', '../datos/Biorreactor 14615.xlsx/Datos', '../datos/Biorreactor 14618.xlsx/Datos', '../datos/Movimientos componentes.xlsx/Full1', '../datos/Biorreactor 13172.xlsx/Datos', '../datos/Temperaturas y humedades.xlsx/Datos', '../datos/Biorreactor 14616.xlsx/Datos', '../datos/OF 123456.xlsx/Sheet1', '../datos/Fases producción_test.xlsx/Cultivo final', '../datos/Centrífuga 12912.xlsx/Datos'])"
      ]
     },
     "execution_count": 25,
     "metadata": {},
     "output_type": "execute_result"
    }
   ],
   "source": [
    "dataframes.keys()"
   ]
  },
  {
   "cell_type": "code",
   "execution_count": 26,
   "metadata": {},
   "outputs": [
    {
     "name": "stdout",
     "output_type": "stream",
     "text": [
      "hola\n"
     ]
    }
   ],
   "source": []
  },
  {
   "cell_type": "code",
   "execution_count": null,
   "metadata": {},
   "outputs": [],
   "source": []
  }
 ],
 "metadata": {
  "kernelspec": {
   "display_name": "Python 3",
   "language": "python",
   "name": "python3"
  },
  "language_info": {
   "codemirror_mode": {
    "name": "ipython",
    "version": 3
   },
   "file_extension": ".py",
   "mimetype": "text/x-python",
   "name": "python",
   "nbconvert_exporter": "python",
   "pygments_lexer": "ipython3",
   "version": "3.10.12"
  }
 },
 "nbformat": 4,
 "nbformat_minor": 2
}
